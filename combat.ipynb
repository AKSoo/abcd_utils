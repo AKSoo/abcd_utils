{
 "cells": [
  {
   "cell_type": "code",
   "execution_count": 1,
   "id": "222ae125-b4ee-495f-9ab0-3496cf91c316",
   "metadata": {},
   "outputs": [],
   "source": [
    "import numpy as np\n",
    "import pandas as pd\n",
    "from joblib import Parallel, delayed\n",
    "import warnings\n",
    "from sklearn.exceptions import ConvergenceWarning"
   ]
  },
  {
   "cell_type": "code",
   "execution_count": 2,
   "id": "20c91b80-a082-4cfc-b2b9-02fbf1093ec2",
   "metadata": {},
   "outputs": [],
   "source": [
    "pheno = pd.read_table('bladder-pheno.txt', index_col=0)\n",
    "data = pd.read_table('bladder-expr.txt', index_col=0).T\n",
    "batch = pheno['batch']\n",
    "covars = pheno[['age', 'cancer']]"
   ]
  },
  {
   "cell_type": "code",
   "execution_count": 3,
   "id": "fa3e3fbb-d900-4465-8204-a68ba96eced1",
   "metadata": {},
   "outputs": [],
   "source": [
    "design = pd.get_dummies(batch.loc[data.index], prefix='_batch')\n",
    "n_array, n_batch = design.shape\n",
    "\n",
    "design = design.join(pd.get_dummies(covars, drop_first=True))"
   ]
  },
  {
   "cell_type": "markdown",
   "id": "ebd8f0e4-eafb-43e0-a7dc-182d6906d14a",
   "metadata": {},
   "source": [
    "* Y (n, p): data\n",
    "* X (n, c): design\n",
    "* B_hat (c, p): `X B_hat ~ Y`\n",
    "* var_pooled (p,): `(Y - Y_hat)^2` mean\n",
    "* stand_mean (n, p): `B_hat.batch` weighted mean + `X.cov B_hat.cov`\n",
    "* Z (n, p): standardized data"
   ]
  },
  {
   "cell_type": "code",
   "execution_count": 4,
   "id": "d604a2a8-dd39-44d7-8060-51827c60647a",
   "metadata": {},
   "outputs": [],
   "source": [
    "Y = data.to_numpy()\n",
    "X = design.to_numpy()\n",
    "X_batch, X_cov = X[:, :n_batch], X[:, n_batch:]\n",
    "n_batches = X_batch.sum(axis=0)\n",
    "batches = [b.nonzero() for b in X_batch.T]"
   ]
  },
  {
   "cell_type": "code",
   "execution_count": 5,
   "id": "094f156b-f662-4649-9bc7-71accef4de7c",
   "metadata": {},
   "outputs": [],
   "source": [
    "B_hat = np.linalg.solve(X.T @ X, X.T @ Y)\n",
    "var_pooled = np.full(n_array, 1/n_array) @ (Y - X @ B_hat)**2\n",
    "stand_mean = (n_batches / n_array) @ B_hat[:n_batch, :] + X_cov @ B_hat[n_batch:, :]\n",
    "Z = (Y - stand_mean) / np.sqrt(var_pooled)"
   ]
  },
  {
   "cell_type": "markdown",
   "id": "385f193a-3235-4891-af4b-30cc6a0410fb",
   "metadata": {},
   "source": [
    "* gamma_hat (b, p): `X(batch) gamma_hat ~ Z`\n",
    "* delta_hat (b, p): `Z` var for each batch\n",
    "* gamma_bar, t2 (b,): `gamma_hat ~ N(gamma_bar,  t2)`\n",
    "* lambda_bar, theta_bar (b,): `delta_hat ~ InvGamma(lambda_bar, theta_bar)`"
   ]
  },
  {
   "cell_type": "code",
   "execution_count": 6,
   "id": "d83eb1e2-a4e5-4732-bac1-7ad682e2bcaf",
   "metadata": {},
   "outputs": [],
   "source": [
    "gamma_hat = np.linalg.solve(X_batch.T @ X_batch, X_batch.T @ Z)\n",
    "gamma_bar = gamma_hat.mean(axis=1)\n",
    "tau_bar2 = gamma_hat.var(axis=1, ddof=1)"
   ]
  },
  {
   "cell_type": "code",
   "execution_count": 7,
   "id": "ae55b5b9-af68-4901-b3cb-02f58f2fb946",
   "metadata": {},
   "outputs": [],
   "source": [
    "def _lambda_invgamma(mean, var):\n",
    "    return mean**2 / var + 2\n",
    "\n",
    "def _theta_invgamma(mean, var):\n",
    "    return mean**3 / var + mean\n",
    "\n",
    "delta_hat = np.vstack([Z[batch].var(axis=0, ddof=1) for batch in batches])\n",
    "V = delta_hat.mean(axis=1)\n",
    "S2 = delta_hat.var(axis=1, ddof=1)\n",
    "lambda_bar = _lambda_invgamma(V, S2)\n",
    "theta_bar = _theta_invgamma(V, S2)"
   ]
  },
  {
   "cell_type": "code",
   "execution_count": 8,
   "id": "6ebf2cca-3bda-46b8-a056-194d0a22ccc1",
   "metadata": {},
   "outputs": [],
   "source": [
    "def _postmean(n, g_hat, g_bar, t_bar2, d_star):\n",
    "    return (n*t_bar2*g_hat + d_star*g_bar) / (n*t_bar2 + d_star)\n",
    "\n",
    "def _postvar(n, sum_sq, l_bar, th_bar):\n",
    "    return (0.5*sum_sq + th_bar) / (0.5*n + l_bar - 1)\n",
    "\n",
    "def _em_fit(z, g_hat, g_bar, t_bar2, d_hat, l_bar, th_bar,\n",
    "            tol=0.0001, max_iter=100):\n",
    "    n = z.shape[0]\n",
    "    g_old, d_old = g_hat, d_hat\n",
    "    \n",
    "    for n_iter in range(1, max_iter+1):\n",
    "        g_new = _postmean(n, g_hat, g_bar, t_bar2, d_old)\n",
    "        d_new = _postvar(n, ((z - g_new)**2).sum(axis=0), l_bar, th_bar)\n",
    "        \n",
    "        change = max((np.abs(g_new - g_old) / g_old).max(),\n",
    "                     (np.abs(d_new - d_old) / d_old).max())\n",
    "        if change < tol:\n",
    "            converged = True\n",
    "            break\n",
    "        g_old = g_new\n",
    "        d_old = d_new\n",
    "    \n",
    "    if not converged:\n",
    "        warnings.warn('Batch did not converge!', ConvergenceWarning)\n",
    "    return {'gamma': g_new, 'delta': d_new, 'n_iter': n_iter}"
   ]
  },
  {
   "cell_type": "code",
   "execution_count": 9,
   "id": "72a82a88-6c26-46da-b7a9-dc1b2a2abf88",
   "metadata": {},
   "outputs": [],
   "source": [
    "batch_fits = Parallel(n_jobs=4)(delayed(_em_fit)(\n",
    "    Z[batches[i]], gamma_hat[i], gamma_bar[i], tau_bar2[i],\n",
    "    delta_hat[i], lambda_bar[i], theta_bar[i],\n",
    "    tol=0.0001, max_iter=100\n",
    ") for i in range(n_batch))\n",
    "gamma_star = np.array([result['gamma'] for result in batch_fits])\n",
    "delta_star = np.array([result['delta'] for result in batch_fits])"
   ]
  },
  {
   "cell_type": "code",
   "execution_count": 10,
   "id": "559484db-ea96-4f17-9bbf-34b1dc03296e",
   "metadata": {},
   "outputs": [],
   "source": [
    "adjusted = np.sqrt(var_pooled / (X_batch @ delta_star)) * (Z - X_batch @ gamma_star) + stand_mean"
   ]
  },
  {
   "cell_type": "code",
   "execution_count": 11,
   "id": "12016137-1f0f-47eb-8fad-3bc755853fb3",
   "metadata": {},
   "outputs": [],
   "source": [
    "r = pd.DataFrame(adjusted, index=data.index, columns=data.columns)"
   ]
  }
 ],
 "metadata": {
  "kernelspec": {
   "display_name": "Python [conda env:StructFunc]",
   "language": "python",
   "name": "conda-env-StructFunc-py"
  },
  "language_info": {
   "codemirror_mode": {
    "name": "ipython",
    "version": 3
   },
   "file_extension": ".py",
   "mimetype": "text/x-python",
   "name": "python",
   "nbconvert_exporter": "python",
   "pygments_lexer": "ipython3",
   "version": "3.9.6"
  }
 },
 "nbformat": 4,
 "nbformat_minor": 5
}
